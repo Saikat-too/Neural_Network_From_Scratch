{
  "nbformat": 4,
  "nbformat_minor": 0,
  "metadata": {
    "colab": {
      "provenance": [],
      "authorship_tag": "ABX9TyPGE7N10gJmhwY7Teb5WeLT",
      "include_colab_link": true
    },
    "kernelspec": {
      "name": "python3",
      "display_name": "Python 3"
    },
    "language_info": {
      "name": "python"
    }
  },
  "cells": [
    {
      "cell_type": "markdown",
      "metadata": {
        "id": "view-in-github",
        "colab_type": "text"
      },
      "source": [
        "<a href=\"https://colab.research.google.com/github/Saikat-too/Neural_Network_From_Scratch/blob/main/NeuralNetowork_and_loss_and_accuracy.ipynb\" target=\"_parent\"><img src=\"https://colab.research.google.com/assets/colab-badge.svg\" alt=\"Open In Colab\"/></a>"
      ]
    },
    {
      "cell_type": "markdown",
      "source": [
        "**Calculatin Network Error With Losses**"
      ],
      "metadata": {
        "id": "h2jGzdNleWHU"
      }
    },
    {
      "cell_type": "code",
      "source": [
        "import math\n",
        "import numpy as np"
      ],
      "metadata": {
        "id": "qy2VEfW2eUEV"
      },
      "execution_count": 8,
      "outputs": []
    },
    {
      "cell_type": "code",
      "source": [
        "# Output Values of a Neural Network\n",
        "\n",
        "softmax_output = [0.7 , 0.1 , 0.2]"
      ],
      "metadata": {
        "id": "0O8s9tP0eLhd"
      },
      "execution_count": null,
      "outputs": []
    },
    {
      "cell_type": "code",
      "execution_count": null,
      "metadata": {
        "id": "aoo1Iju8eFS_"
      },
      "outputs": [],
      "source": [
        "# Ground Truth\n",
        "\n",
        "target_output = [1 , 0, 0]"
      ]
    },
    {
      "cell_type": "code",
      "source": [
        "\n",
        "loss =  -(math.log(softmax_output[0]*target_output[0]) )"
      ],
      "metadata": {
        "id": "32I1a7DXfDpN"
      },
      "execution_count": null,
      "outputs": []
    },
    {
      "cell_type": "code",
      "source": [
        "print(loss)"
      ],
      "metadata": {
        "colab": {
          "base_uri": "https://localhost:8080/"
        },
        "id": "M-OEsH3BfQo-",
        "outputId": "2927d4b3-44d9-4ba9-e8c5-a7a5b4dcc830"
      },
      "execution_count": null,
      "outputs": [
        {
          "output_type": "stream",
          "name": "stdout",
          "text": [
            "0.35667494393873245\n"
          ]
        }
      ]
    },
    {
      "cell_type": "code",
      "source": [
        "softmax_output = np.array([[0.7 , 0.1 , 0.3],\n",
        "                           [0.5 , 0.4 , 0.3] ,\n",
        "                           [0.02, 0.8 , 0.9]\n",
        "                           ])"
      ],
      "metadata": {
        "id": "T3A-v-UwX5ML"
      },
      "execution_count": 9,
      "outputs": []
    },
    {
      "cell_type": "code",
      "source": [
        "class_targets = np.array([[1 , 0 , 0],\n",
        "                          [0 , 1 , 0],\n",
        "                          [0 , 1 , 0]\n",
        "                          ])"
      ],
      "metadata": {
        "id": "Q4vd-2qdYUtV"
      },
      "execution_count": 10,
      "outputs": []
    },
    {
      "cell_type": "code",
      "source": [
        "# Common Loss\n",
        "\n",
        "class Loss:\n",
        "\n",
        "  # Calculate the data and regularization loss\n",
        "  def calculate(self , output , y):\n",
        "    # Calculate Sample loss\n",
        "    sample_loss = self.forward(output , y)\n",
        "\n",
        "    # Calculate mean loss\n",
        "    data_loss = np.mean(sample_loss)\n",
        "\n",
        "    #Return Loss\n",
        "    return data_loss"
      ],
      "metadata": {
        "id": "XdP3GxFTflgu"
      },
      "execution_count": 11,
      "outputs": []
    },
    {
      "cell_type": "code",
      "source": [
        "#Cross Enthropy Loss\n",
        "\n",
        "class Loss_CategoricalCross(Loss):\n",
        "\n",
        "  #Forward Pass\n",
        "\n",
        "  def forward(self , y_pred , y_true):\n",
        "\n",
        "    samples=len(y_pred)\n",
        "    #Clip data to prevent division by 0\n",
        "    # Clip both sides to not drag mean towards any value\n",
        "\n",
        "    y_pred_clipped = np.clip(y_pred, 1e-7 , 1-1e-7)\n",
        "\n",
        "    # Probabilities for target values\n",
        "    # Only if categorical values\n",
        "\n",
        "    if len(y_true.shape) == 1 :\n",
        "      correct_confidence = y_pred_clipped[range(samples),y_true]\n",
        "\n",
        "    # Mask Values only for one hot encoded labels\n",
        "    elif len(y_true.shape) == 2:\n",
        "      correct_confidence = np.sum(y_pred_clipped * y_true , axis=1)\n",
        "\n",
        "\n",
        "    # Loss\n",
        "    print(y_pred_clipped)\n",
        "    negative_log_likelihood = -np.log(correct_confidence)\n",
        "    return negative_log_likelihood\n"
      ],
      "metadata": {
        "id": "HcnFV_FLXrV4"
      },
      "execution_count": 19,
      "outputs": []
    },
    {
      "cell_type": "code",
      "source": [
        "loss_function = Loss_CategoricalCross()\n",
        "\n",
        "loss = loss_function.calculate(softmax_output,class_targets)"
      ],
      "metadata": {
        "colab": {
          "base_uri": "https://localhost:8080/"
        },
        "id": "7PaPxL4QjbEP",
        "outputId": "77f6b202-7edd-4545-d6ec-3fadc583149e"
      },
      "execution_count": 20,
      "outputs": [
        {
          "output_type": "stream",
          "name": "stdout",
          "text": [
            "[[0.7  0.1  0.3 ]\n",
            " [0.5  0.4  0.3 ]\n",
            " [0.02 0.8  0.9 ]]\n"
          ]
        }
      ]
    },
    {
      "cell_type": "code",
      "source": [
        "print(loss)"
      ],
      "metadata": {
        "colab": {
          "base_uri": "https://localhost:8080/"
        },
        "id": "HZbc6DhEkM1A",
        "outputId": "d6745f24-009e-40a4-c25d-235c6faf6a2f"
      },
      "execution_count": 17,
      "outputs": [
        {
          "output_type": "stream",
          "name": "stdout",
          "text": [
            "0.49870307570903244\n"
          ]
        }
      ]
    },
    {
      "cell_type": "markdown",
      "source": [
        "**Accuracy**"
      ],
      "metadata": {
        "id": "a9naOVVvmz9f"
      }
    },
    {
      "cell_type": "code",
      "source": [
        "softmax_output = np.array([[0.7 , 0.1 , 0.3],\n",
        "                           [0.5 , 0.4 , 0.3] ,\n",
        "                           [0.02, 0.8 , 0.9]\n",
        "                           ])"
      ],
      "metadata": {
        "id": "u219NZp5k33I"
      },
      "execution_count": 21,
      "outputs": []
    },
    {
      "cell_type": "code",
      "source": [
        "class_target = np.array([0 , 1 , 1])"
      ],
      "metadata": {
        "id": "JjLGjCAomplz"
      },
      "execution_count": 22,
      "outputs": []
    },
    {
      "cell_type": "code",
      "source": [
        "# Calculate values along second axis\n",
        "\n",
        "prediction = np.argmax(softmax_output , axis=1)"
      ],
      "metadata": {
        "id": "4AojZU-fmuga"
      },
      "execution_count": 24,
      "outputs": []
    },
    {
      "cell_type": "code",
      "source": [
        "# If targets are one hot encoded covert them\n",
        "if len(class_target)==2:\n",
        "  class_target = np.argmax(class_target , axis=1)"
      ],
      "metadata": {
        "id": "iQqGnXXqnAPD"
      },
      "execution_count": 25,
      "outputs": []
    },
    {
      "cell_type": "code",
      "source": [
        "# True evaluates to 1 : False to 0\n",
        "\n",
        "accuracy = np.mean(prediction==class_target)"
      ],
      "metadata": {
        "id": "Z5oZH4rUnStr"
      },
      "execution_count": 26,
      "outputs": []
    },
    {
      "cell_type": "code",
      "source": [
        "print('acc :' , accuracy)"
      ],
      "metadata": {
        "colab": {
          "base_uri": "https://localhost:8080/"
        },
        "id": "NC_QO367neVr",
        "outputId": "2b192c75-4b45-4e43-a202-759b1bb7a705"
      },
      "execution_count": 28,
      "outputs": [
        {
          "output_type": "stream",
          "name": "stdout",
          "text": [
            "acc : 0.3333333333333333\n"
          ]
        }
      ]
    },
    {
      "cell_type": "code",
      "source": [],
      "metadata": {
        "id": "r1bl8p__ovA0"
      },
      "execution_count": null,
      "outputs": []
    }
  ]
}