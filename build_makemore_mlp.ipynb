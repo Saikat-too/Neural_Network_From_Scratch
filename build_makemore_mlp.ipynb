{
  "nbformat": 4,
  "nbformat_minor": 0,
  "metadata": {
    "colab": {
      "provenance": [],
      "authorship_tag": "ABX9TyOZqTsSStvv4kLAxwQKSiAm",
      "include_colab_link": true
    },
    "kernelspec": {
      "name": "python3",
      "display_name": "Python 3"
    },
    "language_info": {
      "name": "python"
    }
  },
  "cells": [
    {
      "cell_type": "markdown",
      "metadata": {
        "id": "view-in-github",
        "colab_type": "text"
      },
      "source": [
        "<a href=\"https://colab.research.google.com/github/Saikat-too/Neural_Network_From_Scratch/blob/main/build_makemore_mlp.ipynb\" target=\"_parent\"><img src=\"https://colab.research.google.com/assets/colab-badge.svg\" alt=\"Open In Colab\"/></a>"
      ]
    },
    {
      "cell_type": "code",
      "execution_count": 3,
      "metadata": {
        "id": "x1hYYlPnczbE"
      },
      "outputs": [],
      "source": [
        "import torch\n",
        "import torch.nn.functional as F\n",
        "import matplotlib.pyplot as plt\n",
        "%matplotlib inline"
      ]
    },
    {
      "cell_type": "code",
      "source": [
        "# read all the words\n",
        "words = open ('names.txt' , 'r' ).read().splitlines()"
      ],
      "metadata": {
        "id": "scGbItdMqPAb"
      },
      "execution_count": 4,
      "outputs": []
    },
    {
      "cell_type": "code",
      "source": [
        "len(words)"
      ],
      "metadata": {
        "colab": {
          "base_uri": "https://localhost:8080/"
        },
        "id": "pQFG_LZP1gw9",
        "outputId": "45756d59-2895-4e46-95a7-d74485081e3d"
      },
      "execution_count": 5,
      "outputs": [
        {
          "output_type": "execute_result",
          "data": {
            "text/plain": [
              "32033"
            ]
          },
          "metadata": {},
          "execution_count": 5
        }
      ]
    },
    {
      "cell_type": "code",
      "source": [
        "# build the vocabulary of characters and mapping to/from integers\n",
        "chars = sorted(list(set(''.join(words))))\n",
        "stoi = {s:i+1 for i,s in enumerate(chars)}\n",
        "stoi['.'] = 0\n",
        "itos = {i:s for s,i in stoi.items()}\n",
        "print(itos)"
      ],
      "metadata": {
        "id": "VrgUx2T91nf-",
        "colab": {
          "base_uri": "https://localhost:8080/"
        },
        "outputId": "e2a56387-d6e1-4e41-f950-ee98b28a48a1"
      },
      "execution_count": 6,
      "outputs": [
        {
          "output_type": "stream",
          "name": "stdout",
          "text": [
            "{1: 'a', 2: 'b', 3: 'c', 4: 'd', 5: 'e', 6: 'f', 7: 'g', 8: 'h', 9: 'i', 10: 'j', 11: 'k', 12: 'l', 13: 'm', 14: 'n', 15: 'o', 16: 'p', 17: 'q', 18: 'r', 19: 's', 20: 't', 21: 'u', 22: 'v', 23: 'w', 24: 'x', 25: 'y', 26: 'z', 0: '.'}\n"
          ]
        }
      ]
    },
    {
      "cell_type": "code",
      "source": [
        "\n",
        "# build the dataset\n",
        "\n",
        "block_size = 3 # context length : how many characters do we take to predict the next one ?\n",
        "X , Y = [] , []\n",
        "\n",
        "for w in words:\n",
        "  #print(w)\n",
        "  context = [0] * block_size\n",
        "  for ch in w + '.':\n",
        "    ix = stoi[ch]\n",
        "    X.append(context)\n",
        "    Y.append(ix)\n",
        "    #print(''.join(itos[i] for i in context), '-->' , itos[ix])\n",
        "    context = context[1:] + [ix]\n",
        "\n",
        "X = torch.tensor(X)\n",
        "Y = torch.tensor(Y)"
      ],
      "metadata": {
        "id": "4vj0cXdRshWf"
      },
      "execution_count": 54,
      "outputs": []
    },
    {
      "cell_type": "code",
      "source": [
        "\n",
        "\n",
        "X.shape , X.dtype , Y.shape , Y.dtype"
      ],
      "metadata": {
        "id": "AvQkVWattvIe",
        "colab": {
          "base_uri": "https://localhost:8080/"
        },
        "outputId": "6aba9542-c05d-43b8-92e2-7550d83cf579"
      },
      "execution_count": 55,
      "outputs": [
        {
          "output_type": "execute_result",
          "data": {
            "text/plain": [
              "(torch.Size([228146, 3]), torch.int64, torch.Size([228146]), torch.int64)"
            ]
          },
          "metadata": {},
          "execution_count": 55
        }
      ]
    },
    {
      "cell_type": "code",
      "source": [
        "# Build the dataset\n",
        "\n",
        "def build_dataset(words):\n",
        "  block_size  = 3\n",
        "  X = []\n",
        "  Y = []\n",
        "  for w in words:\n",
        "  #print(w)\n",
        "    context = [0] * block_size\n",
        "    for ch in w + '.':\n",
        "      ix = stoi[ch]\n",
        "      X.append(context)\n",
        "      Y.append(ix)\n",
        "      #print(''.join(itos[i] for i in context), '-->' , itos[ix])\n",
        "      context = context[1:] + [ix]\n",
        "\n",
        "  X = torch.tensor(X)\n",
        "  Y = torch.tensor(Y)\n",
        "  return X , Y\n",
        "\n",
        "\n",
        "import random\n",
        "random.seed(42)\n",
        "random.shuffle(words)\n",
        "n1 = int(0.8 * len(words))\n",
        "n2 = int(0.9 * len(words))\n",
        "Xtr , Ytr = build_dataset(words[:n1])\n",
        "Xdev , Ydev = build_dataset(words[n1:n2])\n",
        "Xte , Yte = build_dataset(words[n2:])"
      ],
      "metadata": {
        "id": "Ku_BxX5U6HiG"
      },
      "execution_count": 115,
      "outputs": []
    },
    {
      "cell_type": "code",
      "source": [
        "C = torch.randn((27 , 2))"
      ],
      "metadata": {
        "id": "cWYMEb5B1_nh"
      },
      "execution_count": 56,
      "outputs": []
    },
    {
      "cell_type": "code",
      "source": [
        "emb = C[X]\n",
        "emb.shape"
      ],
      "metadata": {
        "colab": {
          "base_uri": "https://localhost:8080/"
        },
        "id": "EltgZtxY2YW5",
        "outputId": "c1b0325e-da6c-4a15-b295-734496143ee0"
      },
      "execution_count": 57,
      "outputs": [
        {
          "output_type": "execute_result",
          "data": {
            "text/plain": [
              "torch.Size([228146, 3, 2])"
            ]
          },
          "metadata": {},
          "execution_count": 57
        }
      ]
    },
    {
      "cell_type": "code",
      "source": [
        "W1 = torch.randn(6 , 100)\n",
        "b1 = torch.rand(100)"
      ],
      "metadata": {
        "id": "G-8-_l2S2ZDJ"
      },
      "execution_count": 58,
      "outputs": []
    },
    {
      "cell_type": "code",
      "source": [
        "torch.cat(torch.unbind(emb , 1) , 1).shape"
      ],
      "metadata": {
        "colab": {
          "base_uri": "https://localhost:8080/"
        },
        "id": "JGmKqYUw4tZH",
        "outputId": "d5036412-eed4-41be-b4d0-46863172bea7"
      },
      "execution_count": 59,
      "outputs": [
        {
          "output_type": "execute_result",
          "data": {
            "text/plain": [
              "torch.Size([228146, 6])"
            ]
          },
          "metadata": {},
          "execution_count": 59
        }
      ]
    },
    {
      "cell_type": "code",
      "source": [
        "emb.shape"
      ],
      "metadata": {
        "colab": {
          "base_uri": "https://localhost:8080/"
        },
        "id": "UgRpFGL1PfXW",
        "outputId": "03328b92-1f3c-46da-da6d-fe8c40cdfa3b"
      },
      "execution_count": 13,
      "outputs": [
        {
          "output_type": "execute_result",
          "data": {
            "text/plain": [
              "torch.Size([32, 3, 2])"
            ]
          },
          "metadata": {},
          "execution_count": 13
        }
      ]
    },
    {
      "cell_type": "code",
      "source": [
        "h = emb.view(32 , 6) @ W1 + b1"
      ],
      "metadata": {
        "id": "UWQ3wNNSQXf5"
      },
      "execution_count": 15,
      "outputs": []
    },
    {
      "cell_type": "code",
      "source": [
        "h.shape"
      ],
      "metadata": {
        "colab": {
          "base_uri": "https://localhost:8080/"
        },
        "id": "PFEZPtniRGFo",
        "outputId": "6167ce22-f230-432d-fb33-5ba8ba7d4922"
      },
      "execution_count": 18,
      "outputs": [
        {
          "output_type": "execute_result",
          "data": {
            "text/plain": [
              "torch.Size([32, 100])"
            ]
          },
          "metadata": {},
          "execution_count": 18
        }
      ]
    },
    {
      "cell_type": "code",
      "source": [
        "W2 = torch.randn((100 , 27))\n",
        "b2 = torch.randn(27)"
      ],
      "metadata": {
        "id": "WEV2kgsaRKs9"
      },
      "execution_count": 19,
      "outputs": []
    },
    {
      "cell_type": "code",
      "source": [
        "logits = h @ W2 + b2"
      ],
      "metadata": {
        "id": "FgJvXQqxRu6v"
      },
      "execution_count": 20,
      "outputs": []
    },
    {
      "cell_type": "code",
      "source": [
        "counts = logits.exp()"
      ],
      "metadata": {
        "id": "k7cHdLjERzr_"
      },
      "execution_count": 21,
      "outputs": []
    },
    {
      "cell_type": "code",
      "source": [
        "prob = counts / counts.sum(1 , keepdims  = True)"
      ],
      "metadata": {
        "id": "W9GIBkqaR4k-"
      },
      "execution_count": 22,
      "outputs": []
    },
    {
      "cell_type": "code",
      "source": [
        "loss = -prob[torch.arange(32) , Y].log().mean()\n",
        "loss"
      ],
      "metadata": {
        "colab": {
          "base_uri": "https://localhost:8080/"
        },
        "id": "9Zg4uviuR-J-",
        "outputId": "c82ea1cd-056f-40fa-a074-678fff17d3fe"
      },
      "execution_count": 24,
      "outputs": [
        {
          "output_type": "execute_result",
          "data": {
            "text/plain": [
              "tensor(14.4934)"
            ]
          },
          "metadata": {},
          "execution_count": 24
        }
      ]
    },
    {
      "cell_type": "code",
      "source": [
        "# ------>> Now Made Respectable ------->>"
      ],
      "metadata": {
        "id": "B0HAOneGR_H2"
      },
      "execution_count": 25,
      "outputs": []
    },
    {
      "cell_type": "code",
      "source": [
        "Xtr.shape , Ytr.shape # Dataset"
      ],
      "metadata": {
        "colab": {
          "base_uri": "https://localhost:8080/"
        },
        "id": "1RhUeACbphnM",
        "outputId": "286ec0f8-d345-4605-f901-35732f7deaff"
      },
      "execution_count": 138,
      "outputs": [
        {
          "output_type": "execute_result",
          "data": {
            "text/plain": [
              "(torch.Size([182625, 3]), torch.Size([182625]))"
            ]
          },
          "metadata": {},
          "execution_count": 138
        }
      ]
    },
    {
      "cell_type": "code",
      "source": [
        "g = torch.Generator().manual_seed(2147483647)\n",
        "C = torch.randn((27 , 2) , generator=g)\n",
        "W1 = torch.randn((6 , 300) , generator=g)\n",
        "b1 = torch.rand((300) , generator=g)\n",
        "W2 = torch.randn((300 , 27) , generator = g)\n",
        "b2 = torch.randn((27) , generator = g)\n",
        "parameters = [C , W1 , b1 , W2 , b2]\n"
      ],
      "metadata": {
        "id": "4ZJqXiiGpopl"
      },
      "execution_count": 146,
      "outputs": []
    },
    {
      "cell_type": "code",
      "source": [
        "sum (p.nelement() for p in parameters)"
      ],
      "metadata": {
        "colab": {
          "base_uri": "https://localhost:8080/"
        },
        "id": "uY_fT5zot-hk",
        "outputId": "adc374c8-1b5c-47ae-a310-58ef2003eb55"
      },
      "execution_count": 147,
      "outputs": [
        {
          "output_type": "execute_result",
          "data": {
            "text/plain": [
              "10281"
            ]
          },
          "metadata": {},
          "execution_count": 147
        }
      ]
    },
    {
      "cell_type": "code",
      "source": [
        "for p in parameters:\n",
        "  p.requires_grad = True"
      ],
      "metadata": {
        "id": "DSuYqQyCvNse"
      },
      "execution_count": 148,
      "outputs": []
    },
    {
      "cell_type": "code",
      "source": [
        "lre = torch.linspace( -3 , 0  , 1000)\n",
        "lrs = 10**lre"
      ],
      "metadata": {
        "id": "MgixL6Dk09YR"
      },
      "execution_count": 149,
      "outputs": []
    },
    {
      "cell_type": "code",
      "source": [
        "#lri = []\n",
        "lossi = []\n",
        "stepi = []\n",
        "min_loss = 0\n",
        "for i in range(30000):\n",
        "\n",
        "  # mini batch construct\n",
        "\n",
        "  ix = torch.randint(0 , Xtr.shape[0] , (32 , ))\n",
        "\n",
        "  #Forward Pass\n",
        "  emb = C[Xtr[ix]]\n",
        "  h = torch.tanh(emb.view(-1 , 6) @ W1 + b1)\n",
        "  logits = h @ W2 + b2\n",
        "  loss = F.cross_entropy(logits , Ytr[ix])\n",
        "  # print(loss.item())\n",
        "  if loss.item() < min_loss or i == 0:\n",
        "    min_loss = loss.item()\n",
        "\n",
        "  # Backward Pass\n",
        "  for p in parameters:\n",
        "    p.grad = None\n",
        "  loss.backward()\n",
        "\n",
        "  # Update\n",
        "  #lr = lrs[i]\n",
        "  lr = 0.05\n",
        "  for p in parameters:\n",
        "    p.data += -lr * p.grad\n",
        "\n",
        "  #lri.append(lre[i])\n",
        "  lossi.append(loss.item())\n",
        "  stepi.append(i)\n",
        "\n",
        "\n",
        "print(min_loss)"
      ],
      "metadata": {
        "colab": {
          "base_uri": "https://localhost:8080/"
        },
        "id": "XLNOmzLuqch9",
        "outputId": "8f03a20c-eab1-494d-b9e9-ed4f3d29f841"
      },
      "execution_count": 165,
      "outputs": [
        {
          "output_type": "stream",
          "name": "stdout",
          "text": [
            "1.4935988187789917\n"
          ]
        }
      ]
    },
    {
      "cell_type": "code",
      "source": [
        "plt.plot(stepi , lossi)"
      ],
      "metadata": {
        "colab": {
          "base_uri": "https://localhost:8080/",
          "height": 448
        },
        "id": "654OWiid-FCd",
        "outputId": "0151729c-a36d-4072-b76a-d858892b2158"
      },
      "execution_count": 166,
      "outputs": [
        {
          "output_type": "execute_result",
          "data": {
            "text/plain": [
              "[<matplotlib.lines.Line2D at 0x7f2316276f50>]"
            ]
          },
          "metadata": {},
          "execution_count": 166
        },
        {
          "output_type": "display_data",
          "data": {
            "text/plain": [
              "<Figure size 640x480 with 1 Axes>"
            ],
            "image/png": "[encoded data removed]"
          },
          "metadata": {}
        }
      ]
    },
    {
      "cell_type": "code",
      "source": [
        "emb = C[Xtr]\n",
        "h = torch.tanh(emb.view(-1 , 6) @ W1 + b1)\n",
        "logits = h @ W2 + b2\n",
        "loss = F.cross_entropy(logits , Ytr)\n",
        "loss"
      ],
      "metadata": {
        "colab": {
          "base_uri": "https://localhost:8080/"
        },
        "id": "0C1Pe8fmAr92",
        "outputId": "e43f11de-3f8a-4351-960f-6ee638dbb432"
      },
      "execution_count": 169,
      "outputs": [
        {
          "output_type": "execute_result",
          "data": {
            "text/plain": [
              "tensor(2.2924, grad_fn=<NllLossBackward0>)"
            ]
          },
          "metadata": {},
          "execution_count": 169
        }
      ]
    },
    {
      "cell_type": "code",
      "source": [
        "emb = C[Xdev]\n",
        "h = torch.tanh(emb.view(-1 , 6) @ W1 + b1)\n",
        "logits = h @ W2 + b2\n",
        "loss = F.cross_entropy(logits , Ydev)\n",
        "loss"
      ],
      "metadata": {
        "colab": {
          "base_uri": "https://localhost:8080/"
        },
        "id": "07EX866cwPM9",
        "outputId": "0cca9cf0-4142-4dff-d942-8f7ca1aa1f6d"
      },
      "execution_count": 168,
      "outputs": [
        {
          "output_type": "execute_result",
          "data": {
            "text/plain": [
              "tensor(2.2989, grad_fn=<NllLossBackward0>)"
            ]
          },
          "metadata": {},
          "execution_count": 168
        }
      ]
    },
    {
      "cell_type": "code",
      "source": [],
      "metadata": {
        "id": "B_xwsDi482BR"
      },
      "execution_count": 128,
      "outputs": []
    }
  ]
}